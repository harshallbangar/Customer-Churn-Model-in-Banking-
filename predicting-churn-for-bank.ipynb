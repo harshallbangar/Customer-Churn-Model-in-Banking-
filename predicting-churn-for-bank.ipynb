{
 "cells": [
  {
   "cell_type": "markdown",
   "metadata": {
    "_uuid": "e4250b8799f3ed9b9100bc15da1241f6dc10b604"
   },
   "source": [
    "## Introduction and problem statement \n",
    "Every month BankCo loses thousands of customers to its competitors. The customers who leave the bank are known as 'churned customers'. In this chalenge, I will predict the customers who are likely to leave BankCO so that BankCo can take masures to make those customers stay by prioritising marketing efforts on those who are likely to churn."
   ]
  },
  {
   "cell_type": "markdown",
   "metadata": {
    "_uuid": "9fd14fab83af06d583f70964f65ed9d4d749917c"
   },
   "source": [
    "## 1. Data preparation and analysis\n",
    "\n",
    "####  Importing relevant libraries that will be used"
   ]
  },
  {
   "cell_type": "code",
   "execution_count": 3,
   "metadata": {
    "_kg_hide-input": false,
    "_uuid": "87979a9c7873368885f013b08f2e355cec7d1699"
   },
   "outputs": [],
   "source": [
    "import os #accessing directory structure\n",
    "import numpy as np #linear algebra\n",
    "import pandas as pd #data processing, CSV file I/O (e.g. pd.read_csv)\n",
    "import seaborn as sns #plotting\n",
    "import matplotlib.pyplot as plt # plotting\n",
    "from mpl_toolkits.mplot3d import Axes3D\n",
    "from sklearn.preprocessing import StandardScaler\n",
    "from sklearn.utils import resample\n",
    "from sklearn import metrics #metrics selection\n",
    "from sklearn.metrics import confusion_matrix #confusion matrix\n",
    "from sklearn.metrics import classification_report\n",
    "from sklearn import model_selection #model selection\n",
    "from sklearn.linear_model import LogisticRegression #Logistic Regression\n",
    "from sklearn.tree import DecisionTreeClassifier #Decision Trees\n",
    "from sklearn.ensemble import RandomForestClassifier #random forests\n",
    "from sklearn.model_selection import cross_val_score #Cross validarion import\n",
    "from sklearn.metrics import accuracy_score #Accuracy of models\n",
    "from sklearn.model_selection import train_test_split #Import train_test_split from sklearn library\n"
   ]
  },
  {
   "cell_type": "markdown",
   "metadata": {
    "_uuid": "bd8be2056a8d928adcf9e601399520ee57b7bb08"
   },
   "source": [
    "## 2. Loading the dataset\n"
   ]
  },
  {
   "cell_type": "code",
   "execution_count": 4,
   "metadata": {
    "_uuid": "2e2be5bddf5160a1cd7602eb00b451a62e91b2be"
   },
   "outputs": [
    {
     "name": "stdout",
     "output_type": "stream",
     "text": [
      "The dataset has 10000 rows and 14 columns\n"
     ]
    },
    {
     "data": {
      "text/html": [
       "<div>\n",
       "<style scoped>\n",
       "    .dataframe tbody tr th:only-of-type {\n",
       "        vertical-align: middle;\n",
       "    }\n",
       "\n",
       "    .dataframe tbody tr th {\n",
       "        vertical-align: top;\n",
       "    }\n",
       "\n",
       "    .dataframe thead th {\n",
       "        text-align: right;\n",
       "    }\n",
       "</style>\n",
       "<table border=\"1\" class=\"dataframe\">\n",
       "  <thead>\n",
       "    <tr style=\"text-align: right;\">\n",
       "      <th></th>\n",
       "      <th>RowNumber</th>\n",
       "      <th>CustomerId</th>\n",
       "      <th>Surname</th>\n",
       "      <th>CreditScore</th>\n",
       "      <th>Geography</th>\n",
       "      <th>Gender</th>\n",
       "      <th>Age</th>\n",
       "      <th>Tenure</th>\n",
       "      <th>Balance</th>\n",
       "      <th>NumOfProducts</th>\n",
       "      <th>HasCrCard</th>\n",
       "      <th>IsActiveMember</th>\n",
       "      <th>EstimatedSalary</th>\n",
       "      <th>Exited</th>\n",
       "    </tr>\n",
       "  </thead>\n",
       "  <tbody>\n",
       "    <tr>\n",
       "      <td>0</td>\n",
       "      <td>1</td>\n",
       "      <td>15634602</td>\n",
       "      <td>Hargrave</td>\n",
       "      <td>619</td>\n",
       "      <td>France</td>\n",
       "      <td>Female</td>\n",
       "      <td>42</td>\n",
       "      <td>2</td>\n",
       "      <td>0.00</td>\n",
       "      <td>1</td>\n",
       "      <td>1</td>\n",
       "      <td>1</td>\n",
       "      <td>101348.88</td>\n",
       "      <td>1</td>\n",
       "    </tr>\n",
       "    <tr>\n",
       "      <td>1</td>\n",
       "      <td>2</td>\n",
       "      <td>15647311</td>\n",
       "      <td>Hill</td>\n",
       "      <td>608</td>\n",
       "      <td>Spain</td>\n",
       "      <td>Female</td>\n",
       "      <td>41</td>\n",
       "      <td>1</td>\n",
       "      <td>83807.86</td>\n",
       "      <td>1</td>\n",
       "      <td>0</td>\n",
       "      <td>1</td>\n",
       "      <td>112542.58</td>\n",
       "      <td>0</td>\n",
       "    </tr>\n",
       "    <tr>\n",
       "      <td>2</td>\n",
       "      <td>3</td>\n",
       "      <td>15619304</td>\n",
       "      <td>Onio</td>\n",
       "      <td>502</td>\n",
       "      <td>France</td>\n",
       "      <td>Female</td>\n",
       "      <td>42</td>\n",
       "      <td>8</td>\n",
       "      <td>159660.80</td>\n",
       "      <td>3</td>\n",
       "      <td>1</td>\n",
       "      <td>0</td>\n",
       "      <td>113931.57</td>\n",
       "      <td>1</td>\n",
       "    </tr>\n",
       "    <tr>\n",
       "      <td>3</td>\n",
       "      <td>4</td>\n",
       "      <td>15701354</td>\n",
       "      <td>Boni</td>\n",
       "      <td>699</td>\n",
       "      <td>France</td>\n",
       "      <td>Female</td>\n",
       "      <td>39</td>\n",
       "      <td>1</td>\n",
       "      <td>0.00</td>\n",
       "      <td>2</td>\n",
       "      <td>0</td>\n",
       "      <td>0</td>\n",
       "      <td>93826.63</td>\n",
       "      <td>0</td>\n",
       "    </tr>\n",
       "    <tr>\n",
       "      <td>4</td>\n",
       "      <td>5</td>\n",
       "      <td>15737888</td>\n",
       "      <td>Mitchell</td>\n",
       "      <td>850</td>\n",
       "      <td>Spain</td>\n",
       "      <td>Female</td>\n",
       "      <td>43</td>\n",
       "      <td>2</td>\n",
       "      <td>125510.82</td>\n",
       "      <td>1</td>\n",
       "      <td>1</td>\n",
       "      <td>1</td>\n",
       "      <td>79084.10</td>\n",
       "      <td>0</td>\n",
       "    </tr>\n",
       "  </tbody>\n",
       "</table>\n",
       "</div>"
      ],
      "text/plain": [
       "   RowNumber  CustomerId   Surname  CreditScore Geography  Gender  Age  \\\n",
       "0          1    15634602  Hargrave          619    France  Female   42   \n",
       "1          2    15647311      Hill          608     Spain  Female   41   \n",
       "2          3    15619304      Onio          502    France  Female   42   \n",
       "3          4    15701354      Boni          699    France  Female   39   \n",
       "4          5    15737888  Mitchell          850     Spain  Female   43   \n",
       "\n",
       "   Tenure    Balance  NumOfProducts  HasCrCard  IsActiveMember  \\\n",
       "0       2       0.00              1          1               1   \n",
       "1       1   83807.86              1          0               1   \n",
       "2       8  159660.80              3          1               0   \n",
       "3       1       0.00              2          0               0   \n",
       "4       2  125510.82              1          1               1   \n",
       "\n",
       "   EstimatedSalary  Exited  \n",
       "0        101348.88       1  \n",
       "1        112542.58       0  \n",
       "2        113931.57       1  \n",
       "3         93826.63       0  \n",
       "4         79084.10       0  "
      ]
     },
     "execution_count": 4,
     "metadata": {},
     "output_type": "execute_result"
    }
   ],
   "source": [
    "#Importing data\n",
    "churn_data = pd.read_csv('D:/ML/predicting-churn-for-bank-customers/Churn_Modelling.csv', delimiter=',')\n",
    "\n",
    "#Giving the dataframe a name\n",
    "churn_data.dataframeName = 'Churn_Modelling.csv'\n",
    "\n",
    "#Computing the number of rows and columns\n",
    "nRow, nCol = churn_data.shape\n",
    "\n",
    "#Displays the number of rows(10 000) and columns (14)\n",
    "print(f'The dataset has {nRow} rows and {nCol} columns')\n",
    "churn_data.head()"
   ]
  },
  {
   "cell_type": "markdown",
   "metadata": {
    "_uuid": "eaaff9e2dfb737ab954a5c247db310dc0a8c0063"
   },
   "source": [
    "#### Dataset information "
   ]
  },
  {
   "cell_type": "code",
   "execution_count": 5,
   "metadata": {
    "_uuid": "1154accf33ff45b234596c37698bc685b7a4992d"
   },
   "outputs": [
    {
     "name": "stdout",
     "output_type": "stream",
     "text": [
      "<class 'pandas.core.frame.DataFrame'>\n",
      "RangeIndex: 10000 entries, 0 to 9999\n",
      "Data columns (total 14 columns):\n",
      "RowNumber          10000 non-null int64\n",
      "CustomerId         10000 non-null int64\n",
      "Surname            10000 non-null object\n",
      "CreditScore        10000 non-null int64\n",
      "Geography          10000 non-null object\n",
      "Gender             10000 non-null object\n",
      "Age                10000 non-null int64\n",
      "Tenure             10000 non-null int64\n",
      "Balance            10000 non-null float64\n",
      "NumOfProducts      10000 non-null int64\n",
      "HasCrCard          10000 non-null int64\n",
      "IsActiveMember     10000 non-null int64\n",
      "EstimatedSalary    10000 non-null float64\n",
      "Exited             10000 non-null int64\n",
      "dtypes: float64(2), int64(9), object(3)\n",
      "memory usage: 1.1+ MB\n"
     ]
    }
   ],
   "source": [
    "churn_data.info()"
   ]
  },
  {
   "cell_type": "markdown",
   "metadata": {
    "_uuid": "a7d41212b06b0717cc44dd68de6f0d45206d960f"
   },
   "source": [
    "* As it can be seen using the cells above, the data set has 10000 non-null rows which is the number of observations and 14 non-null columns   which is the number of features. Features with non_numericl values will be encoded into numbers.\n",
    "\n",
    "* The last column 'Exited' is the target column, this implies that this is a **Supervised Learning** problem\n",
    "\n",
    "This is a binary classification analysis where customers will be split into two subsets; churners ie those who a re likely to leave the Bank and non-churners, that is those who will stay with bank. To achieve this, different classification algorithms such as **K-Nearest Neighbours, Logistic Regression, Support Vector Machines, Decision Trees, Random Forests and Gaussian Naive bayes** will be used and the best classifier will be selected."
   ]
  },
  {
   "cell_type": "code",
   "execution_count": 6,
   "metadata": {
    "_uuid": "7d703f57e4447e99dddc14e34afcfa056c2cdb65"
   },
   "outputs": [
    {
     "data": {
      "text/html": [
       "<div>\n",
       "<style scoped>\n",
       "    .dataframe tbody tr th:only-of-type {\n",
       "        vertical-align: middle;\n",
       "    }\n",
       "\n",
       "    .dataframe tbody tr th {\n",
       "        vertical-align: top;\n",
       "    }\n",
       "\n",
       "    .dataframe thead th {\n",
       "        text-align: right;\n",
       "    }\n",
       "</style>\n",
       "<table border=\"1\" class=\"dataframe\">\n",
       "  <thead>\n",
       "    <tr style=\"text-align: right;\">\n",
       "      <th></th>\n",
       "      <th>RowNumber</th>\n",
       "      <th>CustomerId</th>\n",
       "      <th>CreditScore</th>\n",
       "      <th>Age</th>\n",
       "      <th>Tenure</th>\n",
       "      <th>Balance</th>\n",
       "      <th>NumOfProducts</th>\n",
       "      <th>HasCrCard</th>\n",
       "      <th>IsActiveMember</th>\n",
       "      <th>EstimatedSalary</th>\n",
       "      <th>Exited</th>\n",
       "    </tr>\n",
       "  </thead>\n",
       "  <tbody>\n",
       "    <tr>\n",
       "      <td>count</td>\n",
       "      <td>10000.00000</td>\n",
       "      <td>1.000000e+04</td>\n",
       "      <td>10000.000000</td>\n",
       "      <td>10000.000000</td>\n",
       "      <td>10000.000000</td>\n",
       "      <td>10000.000000</td>\n",
       "      <td>10000.000000</td>\n",
       "      <td>10000.00000</td>\n",
       "      <td>10000.000000</td>\n",
       "      <td>10000.000000</td>\n",
       "      <td>10000.000000</td>\n",
       "    </tr>\n",
       "    <tr>\n",
       "      <td>mean</td>\n",
       "      <td>5000.50000</td>\n",
       "      <td>1.569094e+07</td>\n",
       "      <td>650.528800</td>\n",
       "      <td>38.921800</td>\n",
       "      <td>5.012800</td>\n",
       "      <td>76485.889288</td>\n",
       "      <td>1.530200</td>\n",
       "      <td>0.70550</td>\n",
       "      <td>0.515100</td>\n",
       "      <td>100090.239881</td>\n",
       "      <td>0.203700</td>\n",
       "    </tr>\n",
       "    <tr>\n",
       "      <td>std</td>\n",
       "      <td>2886.89568</td>\n",
       "      <td>7.193619e+04</td>\n",
       "      <td>96.653299</td>\n",
       "      <td>10.487806</td>\n",
       "      <td>2.892174</td>\n",
       "      <td>62397.405202</td>\n",
       "      <td>0.581654</td>\n",
       "      <td>0.45584</td>\n",
       "      <td>0.499797</td>\n",
       "      <td>57510.492818</td>\n",
       "      <td>0.402769</td>\n",
       "    </tr>\n",
       "    <tr>\n",
       "      <td>min</td>\n",
       "      <td>1.00000</td>\n",
       "      <td>1.556570e+07</td>\n",
       "      <td>350.000000</td>\n",
       "      <td>18.000000</td>\n",
       "      <td>0.000000</td>\n",
       "      <td>0.000000</td>\n",
       "      <td>1.000000</td>\n",
       "      <td>0.00000</td>\n",
       "      <td>0.000000</td>\n",
       "      <td>11.580000</td>\n",
       "      <td>0.000000</td>\n",
       "    </tr>\n",
       "    <tr>\n",
       "      <td>25%</td>\n",
       "      <td>2500.75000</td>\n",
       "      <td>1.562853e+07</td>\n",
       "      <td>584.000000</td>\n",
       "      <td>32.000000</td>\n",
       "      <td>3.000000</td>\n",
       "      <td>0.000000</td>\n",
       "      <td>1.000000</td>\n",
       "      <td>0.00000</td>\n",
       "      <td>0.000000</td>\n",
       "      <td>51002.110000</td>\n",
       "      <td>0.000000</td>\n",
       "    </tr>\n",
       "    <tr>\n",
       "      <td>50%</td>\n",
       "      <td>5000.50000</td>\n",
       "      <td>1.569074e+07</td>\n",
       "      <td>652.000000</td>\n",
       "      <td>37.000000</td>\n",
       "      <td>5.000000</td>\n",
       "      <td>97198.540000</td>\n",
       "      <td>1.000000</td>\n",
       "      <td>1.00000</td>\n",
       "      <td>1.000000</td>\n",
       "      <td>100193.915000</td>\n",
       "      <td>0.000000</td>\n",
       "    </tr>\n",
       "    <tr>\n",
       "      <td>75%</td>\n",
       "      <td>7500.25000</td>\n",
       "      <td>1.575323e+07</td>\n",
       "      <td>718.000000</td>\n",
       "      <td>44.000000</td>\n",
       "      <td>7.000000</td>\n",
       "      <td>127644.240000</td>\n",
       "      <td>2.000000</td>\n",
       "      <td>1.00000</td>\n",
       "      <td>1.000000</td>\n",
       "      <td>149388.247500</td>\n",
       "      <td>0.000000</td>\n",
       "    </tr>\n",
       "    <tr>\n",
       "      <td>max</td>\n",
       "      <td>10000.00000</td>\n",
       "      <td>1.581569e+07</td>\n",
       "      <td>850.000000</td>\n",
       "      <td>92.000000</td>\n",
       "      <td>10.000000</td>\n",
       "      <td>250898.090000</td>\n",
       "      <td>4.000000</td>\n",
       "      <td>1.00000</td>\n",
       "      <td>1.000000</td>\n",
       "      <td>199992.480000</td>\n",
       "      <td>1.000000</td>\n",
       "    </tr>\n",
       "  </tbody>\n",
       "</table>\n",
       "</div>"
      ],
      "text/plain": [
       "         RowNumber    CustomerId   CreditScore           Age        Tenure  \\\n",
       "count  10000.00000  1.000000e+04  10000.000000  10000.000000  10000.000000   \n",
       "mean    5000.50000  1.569094e+07    650.528800     38.921800      5.012800   \n",
       "std     2886.89568  7.193619e+04     96.653299     10.487806      2.892174   \n",
       "min        1.00000  1.556570e+07    350.000000     18.000000      0.000000   \n",
       "25%     2500.75000  1.562853e+07    584.000000     32.000000      3.000000   \n",
       "50%     5000.50000  1.569074e+07    652.000000     37.000000      5.000000   \n",
       "75%     7500.25000  1.575323e+07    718.000000     44.000000      7.000000   \n",
       "max    10000.00000  1.581569e+07    850.000000     92.000000     10.000000   \n",
       "\n",
       "             Balance  NumOfProducts    HasCrCard  IsActiveMember  \\\n",
       "count   10000.000000   10000.000000  10000.00000    10000.000000   \n",
       "mean    76485.889288       1.530200      0.70550        0.515100   \n",
       "std     62397.405202       0.581654      0.45584        0.499797   \n",
       "min         0.000000       1.000000      0.00000        0.000000   \n",
       "25%         0.000000       1.000000      0.00000        0.000000   \n",
       "50%     97198.540000       1.000000      1.00000        1.000000   \n",
       "75%    127644.240000       2.000000      1.00000        1.000000   \n",
       "max    250898.090000       4.000000      1.00000        1.000000   \n",
       "\n",
       "       EstimatedSalary        Exited  \n",
       "count     10000.000000  10000.000000  \n",
       "mean     100090.239881      0.203700  \n",
       "std       57510.492818      0.402769  \n",
       "min          11.580000      0.000000  \n",
       "25%       51002.110000      0.000000  \n",
       "50%      100193.915000      0.000000  \n",
       "75%      149388.247500      0.000000  \n",
       "max      199992.480000      1.000000  "
      ]
     },
     "execution_count": 6,
     "metadata": {},
     "output_type": "execute_result"
    }
   ],
   "source": [
    "churn_data.describe()"
   ]
  },
  {
   "cell_type": "markdown",
   "metadata": {
    "_uuid": "9a11b424465c432730ae161c356d575519743ed9"
   },
   "source": [
    "##  3.Data visualization"
   ]
  },
  {
   "cell_type": "markdown",
   "metadata": {
    "_uuid": "de6a05c88f789edb83797253bdf2ae111c82537b"
   },
   "source": [
    "#### The following function plot distribution graphs"
   ]
  },
  {
   "cell_type": "code",
   "execution_count": 7,
   "metadata": {
    "_kg_hide-input": true,
    "_uuid": "a40738169512166b103c3d72945cd2387af19104"
   },
   "outputs": [],
   "source": [
    "# Distribution graphs (histogram/bar graph) of column data\n",
    "def plotPerColumnDistribution(df, nGraphShown, nGraphPerRow):\n",
    "    nunique = df.nunique()\n",
    "    df = df[[col for col in df if nunique[col] > 1 and nunique[col] < 50]] # For displaying purposes, pick columns that have between 1 and 50 unique values\n",
    "    nRow, nCol = df.shape\n",
    "    columnNames = list(df)\n",
    "    nGraphRow = (nCol + nGraphPerRow - 1) / nGraphPerRow\n",
    "    plt.figure(num = None, figsize = (6 * nGraphPerRow, 8 * nGraphRow), dpi = 80, facecolor = 'w', edgecolor = 'k')\n",
    "    for i in range(min(nCol, nGraphShown)):\n",
    "        plt.subplot(nGraphRow, nGraphPerRow, i + 1)\n",
    "        columnDf = df.iloc[:, i]\n",
    "        if (not np.issubdtype(type(columnDf.iloc[0]), np.number)):\n",
    "            valueCounts = columnDf.value_counts()\n",
    "            valueCounts.plot.bar()\n",
    "        else:\n",
    "            columnDf.hist()\n",
    "        plt.ylabel('counts')\n",
    "        plt.xticks(rotation = 90)\n",
    "        plt.title(f'{columnNames[i]} (column {i})')\n",
    "    plt.tight_layout(pad = 1.0, w_pad = 1.0, h_pad = 1.0)\n",
    "    plt.show()\n"
   ]
  },
  {
   "cell_type": "markdown",
   "metadata": {
    "_uuid": "83ff2b131538d5404471de5c0a86bde4ed575c56"
   },
   "source": [
    "#### Function for computing and displaying the correlation matrix"
   ]
  },
  {
   "cell_type": "code",
   "execution_count": 8,
   "metadata": {
    "_kg_hide-input": true,
    "_uuid": "4a25d815a582d6b5c2fe7a066bd713c5bd61ea42"
   },
   "outputs": [],
   "source": [
    "# Correlation matrix\n",
    "def plotCorrelationMatrix(df, graphWidth):\n",
    "    filename = df.dataframeName\n",
    "    df = df.dropna('columns') # drop columns with NaN\n",
    "    df = df[[col for col in df if df[col].nunique() > 1]] # keep columns where there are more than 1 unique values\n",
    "    if df.shape[1] < 2:\n",
    "        print(f'No correlation plots shown: The number of non-NaN or constant columns ({df.shape[1]}) is less than 2')\n",
    "        return\n",
    "    corr = df.corr()\n",
    "    plt.figure(num=None, figsize=(graphWidth, graphWidth), dpi=80, facecolor='w', edgecolor='k')\n",
    "    corrMat = plt.matshow(corr, fignum = 1)\n",
    "    plt.xticks(range(len(corr.columns)), corr.columns, rotation=90)\n",
    "    plt.yticks(range(len(corr.columns)), corr.columns)\n",
    "    plt.gca().xaxis.tick_bottom()\n",
    "    plt.colorbar(corrMat)\n",
    "    plt.title(f'Correlation Matrix for {filename}', fontsize=15)\n",
    "    plt.show()\n"
   ]
  },
  {
   "cell_type": "code",
   "execution_count": 9,
   "metadata": {
    "_kg_hide-input": true,
    "_uuid": "2ba2efb4c149e37b04c87aa73ec2806d78bdd0a8"
   },
   "outputs": [],
   "source": [
    "# Scatter and density plots\n",
    "def plotScatterMatrix(df, plotSize, textSize):\n",
    "    df = df.select_dtypes(include =[np.number]) # keep only numerical columns\n",
    "    # Remove rows and columns that would lead to df being singular\n",
    "    df = df.dropna('columns')\n",
    "    df = df[[col for col in df if df[col].nunique() > 1]] # keep columns where there are more than 1 unique values\n",
    "    columnNames = list(df)\n",
    "    if len(columnNames) > 10: # reduce the number of columns for matrix inversion of kernel density plots\n",
    "        columnNames = columnNames[:10]\n",
    "    df = df[columnNames]\n",
    "    ax = pd.plotting.scatter_matrix(df, alpha=0.75, figsize=[plotSize, plotSize], diagonal='kde')\n",
    "    corrs = df.corr().values\n",
    "    for i, j in zip(*plt.np.triu_indices_from(ax, k = 1)):\n",
    "        ax[i, j].annotate('Corr. coef = %.3f' % corrs[i, j], (0.8, 0.2), xycoords='axes fraction', ha='center', va='center', size=textSize)\n",
    "    plt.suptitle('Scatter and Density Plot')\n",
    "    plt.show()\n"
   ]
  },
  {
   "cell_type": "markdown",
   "metadata": {
    "_uuid": "a5a3d36cb85f55dc7a2d4807e9a9322ad7c2e079"
   },
   "source": [
    "The ratio of the number of exited cutomers to the ones that stayed"
   ]
  },
  {
   "cell_type": "code",
   "execution_count": 10,
   "metadata": {
    "_uuid": "f594cff3c2b301e021f0f65e2b4d1f8f706ce993"
   },
   "outputs": [
    {
     "data": {
      "image/png": "[encoded data removed]",
      "text/plain": [
       "<Figure size 720x720 with 1 Axes>"
      ]
     },
     "metadata": {},
     "output_type": "display_data"
    }
   ],
   "source": [
    "slices=  [churn_data.Exited[churn_data.Exited ==1].count(), \n",
    "          churn_data.Exited[churn_data.Exited == 0].count()]\n",
    "slice_labels = ['Churned', 'Stayed']\n",
    "colours = ['b', 'g']\n",
    "fig, ax = plt.subplots(figsize=(10, 10))\n",
    "ax.pie(slices, labels = slice_labels, colors = colours, startangle= 90, autopct='%.1f%%')\n",
    "plt.title(\"The number of churned cutomers and  the ones that stayed\", size = 20)\n",
    "plt.show()"
   ]
  },
  {
   "cell_type": "markdown",
   "metadata": {
    "_uuid": "1be70562c869200370d800c64c760d088e8d3818"
   },
   "source": [
    "As it can be seen on the pie chart above, 79.6% of the records of the dataset represent customers who stayed and 20.4% are those who churned. This reprents  a  risk of predicting in favor of the majority subset which represents the customers who stayed. Therefore before modelling the minority subset (churned) will be upsampled in order to balance our dataset. "
   ]
  },
  {
   "cell_type": "markdown",
   "metadata": {
    "_uuid": "9096f64b0b9ab3758ecd968d8a52c236039895f4"
   },
   "source": [
    "\n",
    "Distribution graphs (histogram/bar graph) of sampled columns:"
   ]
  },
  {
   "cell_type": "code",
   "execution_count": 11,
   "metadata": {
    "_kg_hide-input": false,
    "_uuid": "91abea7eb5ce9617f431a0547244240f5e79a549"
   },
   "outputs": [
    {
     "data": {
      "image/png": "[encoded data removed]",
      "text/plain": [
       "<Figure size 2400x1408 with 7 Axes>"
      ]
     },
     "metadata": {},
     "output_type": "display_data"
    }
   ],
   "source": [
    "plotPerColumnDistribution(churn_data, 10, 5)"
   ]
  },
  {
   "cell_type": "markdown",
   "metadata": {
    "_uuid": "d3643176597e3955c57a0779e5d290b407f33155"
   },
   "source": [
    "#### Plotting  features mostly categorical with unique values < 50  siding with the target value"
   ]
  },
  {
   "cell_type": "code",
   "execution_count": 12,
   "metadata": {
    "_uuid": "26db0e376dd6fb9af438b88fbd07ec77e5cea11b"
   },
   "outputs": [
    {
     "data": {
      "image/png": "[encoded data removed]",
      "text/plain": [
       "<Figure size 1080x864 with 6 Axes>"
      ]
     },
     "metadata": {
      "needs_background": "light"
     },
     "output_type": "display_data"
    }
   ],
   "source": [
    "# using seaborn library for visualization\n",
    "plot, axes = plt.subplots(3, 2, figsize=(15, 12))\n",
    "axes = axes.flatten()\n",
    "\n",
    "# extracting features with unique values that are between 2 and 49\n",
    "nunique = churn_data.nunique()\n",
    "\n",
    "# array of categorical features\n",
    "cat_features = [col for col in churn_data.columns if nunique[col] >= 1 and nunique[col] < 50]\n",
    "\n",
    "# array of non-categorical non_categorical\n",
    "num_features = [col for col in churn_data.columns if nunique[col] > 50]\n",
    "\n",
    "# looping through the array of categorical features and plotting their counts with the target variable\n",
    "for axis, catplot in zip(axes, churn_data.dtypes[cat_features].index):\n",
    "    sns.countplot(x=catplot, hue = 'Exited', data=churn_data, ax=axis)   \n",
    "plt.tight_layout()  \n",
    "plt.show()  "
   ]
  },
  {
   "cell_type": "markdown",
   "metadata": {
    "_uuid": "41b5494059398488833f3d6bb3f6c86a4cfbf345"
   },
   "source": [
    "\n",
    "**The following observations can be seen from the graphs above**\n",
    "* It can be seen that the majority of customers come from France, followed by Spain and Germany in the last place. Despite Germany having approximately half the number of customers of France, both countries have almost equal the number of curners. This implies that Germany has the highest ratio of churners\n",
    "\n",
    "* The number of female churners is greater than the male's,  despite the number of male customers being greater than that of females.\n",
    "\n",
    "* Non active customers churn at a higher rate than active onesDistribution graphs (histogram/bar graph) of sampled columns:"
   ]
  },
  {
   "cell_type": "markdown",
   "metadata": {
    "_uuid": "1ee2f3c64117fa00621b3537c4dcd0422a0febea"
   },
   "source": [
    "Correlation matrix:"
   ]
  },
  {
   "cell_type": "code",
   "execution_count": 13,
   "metadata": {
    "_kg_hide-input": false,
    "_uuid": "eaa85eb45fb5574250ffcbf9f0919cce2dc4ab27"
   },
   "outputs": [
    {
     "data": {
      "image/png": "[encoded data removed]",
      "text/plain": [
       "<Figure size 640x640 with 2 Axes>"
      ]
     },
     "metadata": {},
     "output_type": "display_data"
    }
   ],
   "source": [
    "plotCorrelationMatrix(churn_data, 8)"
   ]
  },
  {
   "cell_type": "markdown",
   "metadata": {
    "_uuid": "6004927c53460d3ded3fd750d8fa823bfba5aae8"
   },
   "source": [
    "The correlation matrix shows correlation between Age, isActiveMember, Balance with our the target variable. There is no strong correlation among the explanatory variables thus there will not be a need to avoid strongly correlated explanatory variables in modelling. "
   ]
  },
  {
   "cell_type": "markdown",
   "metadata": {
    "_uuid": "037b9c21ab737c62b3446d4d417714a642e4692a"
   },
   "source": [
    "## 4. Data processing and feature engineering"
   ]
  },
  {
   "cell_type": "markdown",
   "metadata": {
    "_uuid": "b3971ee185ebda3be0bc693cb3cd0279cc4b7412"
   },
   "source": [
    "### Dropping features that will not be used and creating dummy variables\n",
    "First, I start by dropping columns taht will not contribute in prediction modelling and then create \n",
    "dummy variables from categorical variables."
   ]
  },
  {
   "cell_type": "code",
   "execution_count": 14,
   "metadata": {
    "_uuid": "b983f8ee727fa09fa3aefd43e4e80537a4bc2fbd"
   },
   "outputs": [],
   "source": [
    "# Dropping RowNumber CustomerId Surname   \n",
    "churn_data1 = churn_data.drop([\"RowNumber\", \"CustomerId\",\"Surname\"], axis=1)\n",
    "\n",
    "# Creating dummy variables from categorical variables\n",
    "churn_data2 = pd.get_dummies(churn_data1, columns=['Gender','Geography'])\n"
   ]
  },
  {
   "cell_type": "code",
   "execution_count": 15,
   "metadata": {
    "_uuid": "396231a3c363a2fc597dc7fd79d179429780c9f6"
   },
   "outputs": [
    {
     "data": {
      "text/html": [
       "<div>\n",
       "<style scoped>\n",
       "    .dataframe tbody tr th:only-of-type {\n",
       "        vertical-align: middle;\n",
       "    }\n",
       "\n",
       "    .dataframe tbody tr th {\n",
       "        vertical-align: top;\n",
       "    }\n",
       "\n",
       "    .dataframe thead th {\n",
       "        text-align: right;\n",
       "    }\n",
       "</style>\n",
       "<table border=\"1\" class=\"dataframe\">\n",
       "  <thead>\n",
       "    <tr style=\"text-align: right;\">\n",
       "      <th></th>\n",
       "      <th>CreditScore</th>\n",
       "      <th>Age</th>\n",
       "      <th>Tenure</th>\n",
       "      <th>Balance</th>\n",
       "      <th>NumOfProducts</th>\n",
       "      <th>HasCrCard</th>\n",
       "      <th>IsActiveMember</th>\n",
       "      <th>EstimatedSalary</th>\n",
       "      <th>Exited</th>\n",
       "      <th>Gender_Female</th>\n",
       "      <th>Gender_Male</th>\n",
       "      <th>Geography_France</th>\n",
       "      <th>Geography_Germany</th>\n",
       "      <th>Geography_Spain</th>\n",
       "    </tr>\n",
       "  </thead>\n",
       "  <tbody>\n",
       "    <tr>\n",
       "      <td>0</td>\n",
       "      <td>619</td>\n",
       "      <td>42</td>\n",
       "      <td>2</td>\n",
       "      <td>0.00</td>\n",
       "      <td>1</td>\n",
       "      <td>1</td>\n",
       "      <td>1</td>\n",
       "      <td>101348.88</td>\n",
       "      <td>1</td>\n",
       "      <td>1</td>\n",
       "      <td>0</td>\n",
       "      <td>1</td>\n",
       "      <td>0</td>\n",
       "      <td>0</td>\n",
       "    </tr>\n",
       "    <tr>\n",
       "      <td>1</td>\n",
       "      <td>608</td>\n",
       "      <td>41</td>\n",
       "      <td>1</td>\n",
       "      <td>83807.86</td>\n",
       "      <td>1</td>\n",
       "      <td>0</td>\n",
       "      <td>1</td>\n",
       "      <td>112542.58</td>\n",
       "      <td>0</td>\n",
       "      <td>1</td>\n",
       "      <td>0</td>\n",
       "      <td>0</td>\n",
       "      <td>0</td>\n",
       "      <td>1</td>\n",
       "    </tr>\n",
       "    <tr>\n",
       "      <td>2</td>\n",
       "      <td>502</td>\n",
       "      <td>42</td>\n",
       "      <td>8</td>\n",
       "      <td>159660.80</td>\n",
       "      <td>3</td>\n",
       "      <td>1</td>\n",
       "      <td>0</td>\n",
       "      <td>113931.57</td>\n",
       "      <td>1</td>\n",
       "      <td>1</td>\n",
       "      <td>0</td>\n",
       "      <td>1</td>\n",
       "      <td>0</td>\n",
       "      <td>0</td>\n",
       "    </tr>\n",
       "    <tr>\n",
       "      <td>3</td>\n",
       "      <td>699</td>\n",
       "      <td>39</td>\n",
       "      <td>1</td>\n",
       "      <td>0.00</td>\n",
       "      <td>2</td>\n",
       "      <td>0</td>\n",
       "      <td>0</td>\n",
       "      <td>93826.63</td>\n",
       "      <td>0</td>\n",
       "      <td>1</td>\n",
       "      <td>0</td>\n",
       "      <td>1</td>\n",
       "      <td>0</td>\n",
       "      <td>0</td>\n",
       "    </tr>\n",
       "    <tr>\n",
       "      <td>4</td>\n",
       "      <td>850</td>\n",
       "      <td>43</td>\n",
       "      <td>2</td>\n",
       "      <td>125510.82</td>\n",
       "      <td>1</td>\n",
       "      <td>1</td>\n",
       "      <td>1</td>\n",
       "      <td>79084.10</td>\n",
       "      <td>0</td>\n",
       "      <td>1</td>\n",
       "      <td>0</td>\n",
       "      <td>0</td>\n",
       "      <td>0</td>\n",
       "      <td>1</td>\n",
       "    </tr>\n",
       "  </tbody>\n",
       "</table>\n",
       "</div>"
      ],
      "text/plain": [
       "   CreditScore  Age  Tenure    Balance  NumOfProducts  HasCrCard  \\\n",
       "0          619   42       2       0.00              1          1   \n",
       "1          608   41       1   83807.86              1          0   \n",
       "2          502   42       8  159660.80              3          1   \n",
       "3          699   39       1       0.00              2          0   \n",
       "4          850   43       2  125510.82              1          1   \n",
       "\n",
       "   IsActiveMember  EstimatedSalary  Exited  Gender_Female  Gender_Male  \\\n",
       "0               1        101348.88       1              1            0   \n",
       "1               1        112542.58       0              1            0   \n",
       "2               0        113931.57       1              1            0   \n",
       "3               0         93826.63       0              1            0   \n",
       "4               1         79084.10       0              1            0   \n",
       "\n",
       "   Geography_France  Geography_Germany  Geography_Spain  \n",
       "0                 1                  0                0  \n",
       "1                 0                  0                1  \n",
       "2                 1                  0                0  \n",
       "3                 1                  0                0  \n",
       "4                 0                  0                1  "
      ]
     },
     "execution_count": 15,
     "metadata": {},
     "output_type": "execute_result"
    }
   ],
   "source": [
    "#New dataset after creating dummy variables\n",
    "churn_data2.head()"
   ]
  },
  {
   "cell_type": "code",
   "execution_count": 16,
   "metadata": {
    "_kg_hide-input": false,
    "_uuid": "ef2b5a7b0102911f580467a44813793ee6366c9e"
   },
   "outputs": [
    {
     "data": {
      "text/html": [
       "<div>\n",
       "<style scoped>\n",
       "    .dataframe tbody tr th:only-of-type {\n",
       "        vertical-align: middle;\n",
       "    }\n",
       "\n",
       "    .dataframe tbody tr th {\n",
       "        vertical-align: top;\n",
       "    }\n",
       "\n",
       "    .dataframe thead th {\n",
       "        text-align: right;\n",
       "    }\n",
       "</style>\n",
       "<table border=\"1\" class=\"dataframe\">\n",
       "  <thead>\n",
       "    <tr style=\"text-align: right;\">\n",
       "      <th></th>\n",
       "      <th>CreditScore</th>\n",
       "      <th>Age</th>\n",
       "      <th>Tenure</th>\n",
       "      <th>Balance</th>\n",
       "      <th>NumOfProducts</th>\n",
       "      <th>HasCrCard</th>\n",
       "      <th>IsActiveMember</th>\n",
       "      <th>EstimatedSalary</th>\n",
       "      <th>Exited</th>\n",
       "      <th>Male</th>\n",
       "      <th>Gender_Male</th>\n",
       "      <th>France</th>\n",
       "      <th>Germany</th>\n",
       "      <th>Spain</th>\n",
       "    </tr>\n",
       "  </thead>\n",
       "  <tbody>\n",
       "    <tr>\n",
       "      <td>0</td>\n",
       "      <td>619</td>\n",
       "      <td>42</td>\n",
       "      <td>2</td>\n",
       "      <td>0.00</td>\n",
       "      <td>1</td>\n",
       "      <td>1</td>\n",
       "      <td>1</td>\n",
       "      <td>101348.88</td>\n",
       "      <td>1</td>\n",
       "      <td>1</td>\n",
       "      <td>0</td>\n",
       "      <td>1</td>\n",
       "      <td>0</td>\n",
       "      <td>0</td>\n",
       "    </tr>\n",
       "    <tr>\n",
       "      <td>1</td>\n",
       "      <td>608</td>\n",
       "      <td>41</td>\n",
       "      <td>1</td>\n",
       "      <td>83807.86</td>\n",
       "      <td>1</td>\n",
       "      <td>0</td>\n",
       "      <td>1</td>\n",
       "      <td>112542.58</td>\n",
       "      <td>0</td>\n",
       "      <td>1</td>\n",
       "      <td>0</td>\n",
       "      <td>0</td>\n",
       "      <td>0</td>\n",
       "      <td>1</td>\n",
       "    </tr>\n",
       "    <tr>\n",
       "      <td>2</td>\n",
       "      <td>502</td>\n",
       "      <td>42</td>\n",
       "      <td>8</td>\n",
       "      <td>159660.80</td>\n",
       "      <td>3</td>\n",
       "      <td>1</td>\n",
       "      <td>0</td>\n",
       "      <td>113931.57</td>\n",
       "      <td>1</td>\n",
       "      <td>1</td>\n",
       "      <td>0</td>\n",
       "      <td>1</td>\n",
       "      <td>0</td>\n",
       "      <td>0</td>\n",
       "    </tr>\n",
       "    <tr>\n",
       "      <td>3</td>\n",
       "      <td>699</td>\n",
       "      <td>39</td>\n",
       "      <td>1</td>\n",
       "      <td>0.00</td>\n",
       "      <td>2</td>\n",
       "      <td>0</td>\n",
       "      <td>0</td>\n",
       "      <td>93826.63</td>\n",
       "      <td>0</td>\n",
       "      <td>1</td>\n",
       "      <td>0</td>\n",
       "      <td>1</td>\n",
       "      <td>0</td>\n",
       "      <td>0</td>\n",
       "    </tr>\n",
       "    <tr>\n",
       "      <td>4</td>\n",
       "      <td>850</td>\n",
       "      <td>43</td>\n",
       "      <td>2</td>\n",
       "      <td>125510.82</td>\n",
       "      <td>1</td>\n",
       "      <td>1</td>\n",
       "      <td>1</td>\n",
       "      <td>79084.10</td>\n",
       "      <td>0</td>\n",
       "      <td>1</td>\n",
       "      <td>0</td>\n",
       "      <td>0</td>\n",
       "      <td>0</td>\n",
       "      <td>1</td>\n",
       "    </tr>\n",
       "  </tbody>\n",
       "</table>\n",
       "</div>"
      ],
      "text/plain": [
       "   CreditScore  Age  Tenure    Balance  NumOfProducts  HasCrCard  \\\n",
       "0          619   42       2       0.00              1          1   \n",
       "1          608   41       1   83807.86              1          0   \n",
       "2          502   42       8  159660.80              3          1   \n",
       "3          699   39       1       0.00              2          0   \n",
       "4          850   43       2  125510.82              1          1   \n",
       "\n",
       "   IsActiveMember  EstimatedSalary  Exited  Male  Gender_Male  France  \\\n",
       "0               1        101348.88       1     1            0       1   \n",
       "1               1        112542.58       0     1            0       0   \n",
       "2               0        113931.57       1     1            0       1   \n",
       "3               0         93826.63       0     1            0       1   \n",
       "4               1         79084.10       0     1            0       0   \n",
       "\n",
       "   Germany  Spain  \n",
       "0        0      0  \n",
       "1        0      1  \n",
       "2        0      0  \n",
       "3        0      0  \n",
       "4        0      1  "
      ]
     },
     "execution_count": 16,
     "metadata": {},
     "output_type": "execute_result"
    }
   ],
   "source": [
    "#Renaming dummy variables created from Gender ang Geography columns\n",
    "churn_data2.rename(columns={\"Gender_Female\": \"Female\", \"Gender_Female\": \"Male\",\"Geography_France\":\"France\",\n",
    "                                      \"Geography_Spain\": \"Spain\",\"Geography_Germany\":\"Germany\"}, inplace=True)\n",
    "churn_data2.head()"
   ]
  },
  {
   "cell_type": "markdown",
   "metadata": {
    "_uuid": "befda7823437104d6ab78248c7ec24c9926abc15"
   },
   "source": [
    "### Dealing with imbalanced dataset\n",
    "As the pie chart in section 3 (Data visualisation) shows, our dataset is imbalanced 79.6 % of records belong to one class (Exited/churned) to  avoid overfitting to the majority class, the dataset will be balanced by upsampling the minority class."
   ]
  },
  {
   "cell_type": "code",
   "execution_count": 17,
   "metadata": {
    "_uuid": "23a5541754661a9a1eb994d9094c98a9629fa8ce"
   },
   "outputs": [
    {
     "data": {
      "text/plain": [
       "0    7963\n",
       "1    2037\n",
       "Name: Exited, dtype: int64"
      ]
     },
     "execution_count": 17,
     "metadata": {},
     "output_type": "execute_result"
    }
   ],
   "source": [
    "churn_data2.Exited.value_counts()"
   ]
  },
  {
   "cell_type": "code",
   "execution_count": 18,
   "metadata": {
    "_uuid": "cb5120b980fee3c7879a12f041d3ed599921eb42"
   },
   "outputs": [],
   "source": [
    "# upsampling the minority class so that it has the same number of records as the mijority\n",
    "churn_balanced = resample(churn_data2[churn_data2.Exited ==1],replace=True,n_samples= 7963,random_state=1) #set the seed for random resampling\n",
    "churn_balanced = pd.concat([churn_data2[churn_data2.Exited ==0], churn_balanced])"
   ]
  },
  {
   "cell_type": "code",
   "execution_count": 19,
   "metadata": {
    "_uuid": "39d478ce2d43a8a855df14554a86d557a3e47d6f"
   },
   "outputs": [
    {
     "data": {
      "text/plain": [
       "1    7963\n",
       "0    7963\n",
       "Name: Exited, dtype: int64"
      ]
     },
     "execution_count": 19,
     "metadata": {},
     "output_type": "execute_result"
    }
   ],
   "source": [
    "churn_balanced.Exited.value_counts()"
   ]
  },
  {
   "cell_type": "markdown",
   "metadata": {
    "_uuid": "0fd619c872b3e2f5346509e896e074afcd14e6a6"
   },
   "source": [
    "Now we have a balanced dataset "
   ]
  },
  {
   "cell_type": "markdown",
   "metadata": {
    "_uuid": "43f74a00940b64eb91788d3dcf2f1adaea4a20bc"
   },
   "source": [
    "#### Feature extraction"
   ]
  },
  {
   "cell_type": "markdown",
   "metadata": {
    "_uuid": "e2f737c9fd628eda6fbdc68e03495b7b52e7e31c"
   },
   "source": [
    "From imbalanced dataset"
   ]
  },
  {
   "cell_type": "code",
   "execution_count": 20,
   "metadata": {
    "_uuid": "f46a45ad775ac3a9429d2362682b604ca9dfadf8"
   },
   "outputs": [],
   "source": [
    "# Explanatory variable from unbalanced dataset\n",
    "# Explanatory variable\n",
    "X = churn_data2.loc[:,churn_data2.columns != 'Exited']\n",
    "\n",
    "# Target variable\n",
    "Y = churn_data2.loc[:,churn_data2.columns == 'Exited']"
   ]
  },
  {
   "cell_type": "markdown",
   "metadata": {
    "_uuid": "17ad29ed90cf72f011df748989701d1d7e7c63a2"
   },
   "source": [
    "From the balanced dataset"
   ]
  },
  {
   "cell_type": "code",
   "execution_count": 21,
   "metadata": {
    "_uuid": "3e8577da3dad6502d1dea4fc45e0b3d71ca116d6"
   },
   "outputs": [],
   "source": [
    "# Explanatory variable from the balanced dataset\n",
    "# Explanatory variable\n",
    "X_balanced = churn_balanced.loc[:,churn_balanced.columns != 'Exited']\n",
    "\n",
    "# Target variable\n",
    "Y_balanced = churn_balanced.loc[:,churn_balanced.columns == 'Exited']"
   ]
  },
  {
   "cell_type": "markdown",
   "metadata": {
    "_uuid": "f40b4be4af8012746778f1aa1153a502c74a1dee"
   },
   "source": [
    "## 5. Predictive modelling\n",
    "\n",
    "For this stage, different classification models mentioned in the introduction will be used to predict whether a given customer will or not churn.\n",
    "To do that, our dataset will be shuffled and split into train and test data, the former is 80% and latter 20 % of total records.\n"
   ]
  },
  {
   "cell_type": "code",
   "execution_count": 22,
   "metadata": {
    "_uuid": "84dde7ff5891e1a64838ab947ef1e2797225d196"
   },
   "outputs": [],
   "source": [
    "#splitting into training and testing datasets from both balanced and unbalanced datasets\n",
    "\n",
    "#imbalanced\n",
    "X_train, X_test, Y_train, Y_test = train_test_split(X, Y, test_size=0.2) \n",
    "\n",
    "#balanced\n",
    "X_trainb, X_testb, Y_trainb, Y_testb = train_test_split(X_balanced, Y_balanced, test_size=0.2) "
   ]
  },
  {
   "cell_type": "markdown",
   "metadata": {
    "_uuid": "1e6aa7fb70d0dcf444b9a598e0a6f7c04e92eff2"
   },
   "source": [
    "### Logistic Regression\n",
    "Logistic Regression is commonly used to estimate the probability that an instance belongs to a particular class (e.g., what is the probability that a given customer will churn?). If the estimated probability is greater than 50%, then the model predicts that the customer will churn (positive class, labeled “1”), or else it predicts that the customer does not (i.e., it belongs to the negative class, labeled “0”). This makes it a binary classifier."
   ]
  },
  {
   "cell_type": "markdown",
   "metadata": {
    "_uuid": "b5334171661750cf5d7d4d3db2ac55fcc222d255"
   },
   "source": [
    "#### On imbalanced data"
   ]
  },
  {
   "cell_type": "code",
   "execution_count": 23,
   "metadata": {
    "_uuid": "7c3485c7ae94e56d4d1836e4e3dd61b9eea95c35"
   },
   "outputs": [
    {
     "name": "stdout",
     "output_type": "stream",
     "text": [
      "Accuracy of LogisticRegression: 80.40 %\n",
      "              precision    recall  f1-score   support\n",
      "\n",
      "           0       0.80      1.00      0.89      1606\n",
      "           1       0.67      0.01      0.02       394\n",
      "\n",
      "    accuracy                           0.80      2000\n",
      "   macro avg       0.74      0.50      0.46      2000\n",
      "weighted avg       0.78      0.80      0.72      2000\n",
      "\n"
     ]
    },
    {
     "name": "stderr",
     "output_type": "stream",
     "text": [
      "C:\\Users\\DELL\\Anaconda3\\lib\\site-packages\\sklearn\\linear_model\\logistic.py:432: FutureWarning: Default solver will be changed to 'lbfgs' in 0.22. Specify a solver to silence this warning.\n",
      "  FutureWarning)\n"
     ]
    }
   ],
   "source": [
    "#fitting a the Logistic regression model on unbalanced dataset\n",
    "logregit = LogisticRegression()\n",
    "logregit.fit(X_train, Y_train.values.ravel())\n",
    "\n",
    "#predicting \n",
    "Y_pred = logregit.predict(X_test)\n",
    "accuracy = accuracy_score(Y_pred, Y_test)*100\n",
    "print('Accuracy of LogisticRegression: {:.2f} %'.format(accuracy))\n",
    "print(classification_report(Y_test, Y_pred))\n"
   ]
  },
  {
   "cell_type": "markdown",
   "metadata": {
    "_uuid": "c04f526205aca43d3111087c2bcb08c8f62edb6f"
   },
   "source": [
    "#### Balanced data"
   ]
  },
  {
   "cell_type": "code",
   "execution_count": 24,
   "metadata": {
    "_uuid": "b8662ceff0c66e04f3e617172dd729bb93b08436"
   },
   "outputs": [
    {
     "name": "stdout",
     "output_type": "stream",
     "text": [
      "Accuracy of LogisticRegression: 67.83 %\n",
      "              precision    recall  f1-score   support\n",
      "\n",
      "           0       0.67      0.67      0.67      1563\n",
      "           1       0.68      0.69      0.69      1623\n",
      "\n",
      "    accuracy                           0.68      3186\n",
      "   macro avg       0.68      0.68      0.68      3186\n",
      "weighted avg       0.68      0.68      0.68      3186\n",
      "\n"
     ]
    },
    {
     "name": "stderr",
     "output_type": "stream",
     "text": [
      "C:\\Users\\DELL\\Anaconda3\\lib\\site-packages\\sklearn\\linear_model\\logistic.py:432: FutureWarning: Default solver will be changed to 'lbfgs' in 0.22. Specify a solver to silence this warning.\n",
      "  FutureWarning)\n"
     ]
    }
   ],
   "source": [
    "#fitting a the Logistic regression model\n",
    "logregitb = LogisticRegression()\n",
    "logregitb.fit(X_trainb, Y_trainb.values.ravel())\n",
    "\n",
    "#predicting \n",
    "Y_predb = logregitb.predict(X_testb)\n",
    "accuracy = accuracy_score(Y_predb, Y_testb)*100\n",
    "print('Accuracy of LogisticRegression: {:.2f} %'.format(accuracy))\n",
    "print(classification_report(Y_testb, Y_predb))"
   ]
  },
  {
   "cell_type": "markdown",
   "metadata": {
    "_uuid": "9d12287ea7a60b79ab5decca68e31eae4795f352"
   },
   "source": [
    " **Metrics used**\n",
    "\n",
    "\n",
    "**Precision**:  This a measure of a classifier's exactness, i.e., the ability of a classifier to give correct labels.\n",
    "\n",
    "**Recall**: A measure of a classifiers completeness, i.e., the ability of a classifier to find all samples that belong a certain class.\n",
    "\n",
    "  **F1 Score (or F-score)**: A weighted average of precision and recall.\n",
    "  \n",
    "  As the results above show, eventhough the unbalanced dataset gives a higher accuracy, the precion and recall values are only high  for the majority class( class of those who did not churn) and very low for the minority class. This questions the ability of the model to predict that a customer will churn.\n",
    "  \n",
    "Despite having a lower accuracy, the Logistic Regression model trained on balanced data gives balanced precision and recall values for both the majority and minority classes."
   ]
  },
  {
   "cell_type": "markdown",
   "metadata": {
    "_uuid": "258ee0d59e61e19333965f198670153cb9d7a05e"
   },
   "source": [
    "### Decision Trees  \n",
    "Decision Trees are versatile Machine Learning algorithms that can perform both classification and regression tasks. They are very powerful algorithms, capable of fitting complex datasets.\n",
    "\n",
    "**On balanced dataset**"
   ]
  },
  {
   "cell_type": "code",
   "execution_count": 25,
   "metadata": {
    "_uuid": "13ffcf45692f439237f1557d970863e6df7c0c35"
   },
   "outputs": [
    {
     "name": "stdout",
     "output_type": "stream",
     "text": [
      "Accuracy of DecisionTreeClassifier: 67.83\n",
      "              precision    recall  f1-score   support\n",
      "\n",
      "           0       0.67      0.67      0.67      1563\n",
      "           1       0.68      0.69      0.69      1623\n",
      "\n",
      "    accuracy                           0.68      3186\n",
      "   macro avg       0.68      0.68      0.68      3186\n",
      "weighted avg       0.68      0.68      0.68      3186\n",
      "\n"
     ]
    }
   ],
   "source": [
    "#Decision tree classifier\n",
    "dtreeb = DecisionTreeClassifier(max_depth=5)\n",
    "\n",
    "#Training the decision tree classifier on a balanced dataset using all features\n",
    "dtreeb.fit(X_trainb, Y_trainb)\n",
    "\n",
    "#predicting \n",
    "Y_pred = dtreeb.predict(X_testb)\n",
    "accuracy = accuracy_score(Y_predb, Y_testb)*100\n",
    "print('Accuracy of DecisionTreeClassifier: {:.2f}'.format(accuracy))\n",
    "print(classification_report(Y_testb, Y_predb))"
   ]
  },
  {
   "cell_type": "markdown",
   "metadata": {
    "_uuid": "a6faef4b38febbbe8f91eae80eeada3bc1742035"
   },
   "source": [
    "**on original (imbalanced) dataset**"
   ]
  },
  {
   "cell_type": "code",
   "execution_count": 26,
   "metadata": {
    "_uuid": "34089339e33c508dfa934057e659ea26caa1c0f4"
   },
   "outputs": [
    {
     "name": "stdout",
     "output_type": "stream",
     "text": [
      "Accuracy of DecisionTreeClassifier: 85.05\n",
      "              precision    recall  f1-score   support\n",
      "\n",
      "           0       0.88      0.94      0.91      1606\n",
      "           1       0.67      0.47      0.55       394\n",
      "\n",
      "    accuracy                           0.85      2000\n",
      "   macro avg       0.78      0.71      0.73      2000\n",
      "weighted avg       0.84      0.85      0.84      2000\n",
      "\n"
     ]
    }
   ],
   "source": [
    "#Decision tree classifier\n",
    "dtree = DecisionTreeClassifier(max_depth=5)\n",
    "\n",
    "#Training the decision tree classifier\n",
    "dtree.fit(X_train, Y_train)\n",
    "\n",
    "#predicting \n",
    "Y_pred = dtree.predict(X_test)\n",
    "accuracy = accuracy_score(Y_pred, Y_test)*100\n",
    "print('Accuracy of DecisionTreeClassifier: {:.2f}'.format(accuracy))\n",
    "print(classification_report(Y_test, Y_pred))"
   ]
  },
  {
   "cell_type": "markdown",
   "metadata": {
    "_uuid": "8b887c56e51f8efdec70fa4df0e4a396f1d4a917"
   },
   "source": [
    "Decision trees gives overall better performance than Logistic Regression on both balanced and original data sets with higher precision and recall scores. Therefore, DecisionTreeClassifier is a better classifier than Logistic Regression.\n",
    "Let's see how it holds against Random Forests!"
   ]
  },
  {
   "cell_type": "markdown",
   "metadata": {
    "_uuid": "ad62397cdb14ffd08ef1c7e4151689ec636899ef"
   },
   "source": [
    "### RandomForests\n",
    "\n",
    "Random Forests is an ensemble of Decision Trees which averages multiple Decision Trees that suffer from high variance. Random Forests build  more robust model that has better generalisation performance."
   ]
  },
  {
   "cell_type": "markdown",
   "metadata": {
    "_uuid": "2cf34ce908efcfaee3e77e4a867ce06d261accf9"
   },
   "source": [
    "**On original (imbalanced) dataset**"
   ]
  },
  {
   "cell_type": "code",
   "execution_count": 27,
   "metadata": {
    "_uuid": "88b2a9ed899994d7c271b95371f05fc328720472"
   },
   "outputs": [
    {
     "name": "stdout",
     "output_type": "stream",
     "text": [
      "RandomForestClassifier: 85.35\n",
      "              precision    recall  f1-score   support\n",
      "\n",
      "           0       0.87      0.96      0.91      1606\n",
      "           1       0.72      0.42      0.53       394\n",
      "\n",
      "    accuracy                           0.85      2000\n",
      "   macro avg       0.80      0.69      0.72      2000\n",
      "weighted avg       0.84      0.85      0.84      2000\n",
      "\n"
     ]
    },
    {
     "name": "stderr",
     "output_type": "stream",
     "text": [
      "C:\\Users\\DELL\\Anaconda3\\lib\\site-packages\\sklearn\\ensemble\\forest.py:245: FutureWarning: The default value of n_estimators will change from 10 in version 0.20 to 100 in 0.22.\n",
      "  \"10 in version 0.20 to 100 in 0.22.\", FutureWarning)\n"
     ]
    }
   ],
   "source": [
    "#Random forest classifier\n",
    "randForest = RandomForestClassifier()\n",
    "\n",
    "#Training the decision tree classifier\n",
    "randForest.fit(X_train, Y_train.values.ravel())\n",
    "\n",
    "#predicting \n",
    "Y_pred = randForest.predict(X_test)\n",
    "accuracy = accuracy_score(Y_pred, Y_test.values.ravel())*100\n",
    "print('RandomForestClassifier: {:.2f}'.format(accuracy))\n",
    "print(classification_report(Y_test, Y_pred))"
   ]
  },
  {
   "cell_type": "markdown",
   "metadata": {
    "_uuid": "add3f88c2ebf8a4fa94092fc30c3c7aa54628aa6"
   },
   "source": [
    "** On balanced dataset**"
   ]
  },
  {
   "cell_type": "code",
   "execution_count": 28,
   "metadata": {
    "_uuid": "21887e633b0c83076f0f1ac10482e1bd7fa23ce0"
   },
   "outputs": [
    {
     "name": "stdout",
     "output_type": "stream",
     "text": [
      "RandomForestClassifier: 91.31\n",
      "              precision    recall  f1-score   support\n",
      "\n",
      "           0       0.86      0.99      0.92      1563\n",
      "           1       0.99      0.84      0.91      1623\n",
      "\n",
      "    accuracy                           0.91      3186\n",
      "   macro avg       0.92      0.91      0.91      3186\n",
      "weighted avg       0.92      0.91      0.91      3186\n",
      "\n"
     ]
    },
    {
     "name": "stderr",
     "output_type": "stream",
     "text": [
      "C:\\Users\\DELL\\Anaconda3\\lib\\site-packages\\sklearn\\ensemble\\forest.py:245: FutureWarning: The default value of n_estimators will change from 10 in version 0.20 to 100 in 0.22.\n",
      "  \"10 in version 0.20 to 100 in 0.22.\", FutureWarning)\n",
      "C:\\Users\\DELL\\Anaconda3\\lib\\site-packages\\ipykernel_launcher.py:5: DataConversionWarning: A column-vector y was passed when a 1d array was expected. Please change the shape of y to (n_samples,), for example using ravel().\n",
      "  \"\"\"\n"
     ]
    }
   ],
   "source": [
    "#Random forest classifier\n",
    "randForestb = RandomForestClassifier()\n",
    "\n",
    "#Training the decision tree classifier\n",
    "randForestb.fit(X_trainb, Y_trainb)\n",
    "\n",
    "#predicting \n",
    "Y_predb = randForest.predict(X_testb)\n",
    "accuracy = accuracy_score(Y_predb, Y_testb.values.ravel())*100\n",
    "print('RandomForestClassifier: {:.2f}'.format(accuracy))\n",
    "print(classification_report(Y_testb, Y_predb))"
   ]
  },
  {
   "cell_type": "markdown",
   "metadata": {
    "_uuid": "b9f3e9a6bf6ad350c1eddb00a61e6367fe7b3db2"
   },
   "source": [
    "## Conclusion\n",
    "As concludion, from the analysis done on this data set, it was seen groups such as Germany and Female have a higher ratio \n",
    "of customers who churned. After analysis, different classifiers were used and it was proved that Random Forests presented \n",
    "an overall better performance on both balanced (**86 % accuracy**) and imbalanced (**91.56 accuracy%**)  datasets in predicting whether or not customers will churn. \n",
    "Thus Random Forests is better classifier for this problem."
   ]
  },
  {
   "cell_type": "markdown",
   "metadata": {
    "_uuid": "359aaeeb473d406ab376ee956602e05e29be4b93"
   },
   "source": [
    "**End**"
   ]
  },
  {
   "cell_type": "code",
   "execution_count": null,
   "metadata": {
    "_uuid": "c1bde5702fa33b8f80978057007284ee2efa1b20"
   },
   "outputs": [],
   "source": []
  },
  {
   "cell_type": "code",
   "execution_count": null,
   "metadata": {},
   "outputs": [],
   "source": []
  },
  {
   "cell_type": "code",
   "execution_count": null,
   "metadata": {},
   "outputs": [],
   "source": []
  },
  {
   "cell_type": "code",
   "execution_count": null,
   "metadata": {},
   "outputs": [],
   "source": []
  },
  {
   "cell_type": "code",
   "execution_count": null,
   "metadata": {},
   "outputs": [],
   "source": []
  }
 ],
 "metadata": {
  "kernelspec": {
   "display_name": "Python 3",
   "language": "python",
   "name": "python3"
  },
  "language_info": {
   "codemirror_mode": {
    "name": "ipython",
    "version": 3
   },
   "file_extension": ".py",
   "mimetype": "text/x-python",
   "name": "python",
   "nbconvert_exporter": "python",
   "pygments_lexer": "ipython3",
   "version": "3.7.4"
  }
 },
 "nbformat": 4,
 "nbformat_minor": 1
}
